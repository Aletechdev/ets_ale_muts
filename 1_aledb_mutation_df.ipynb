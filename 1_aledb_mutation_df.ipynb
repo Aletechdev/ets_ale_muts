{
 "cells": [
  {
   "cell_type": "code",
   "execution_count": 1,
   "metadata": {},
   "outputs": [],
   "source": [
    "%matplotlib inline\n",
    "import matplotlib.pyplot as plt\n",
    "import pandas as pd\n",
    "from IPython.display import display\n",
    "import os, sys, itertools, csv\n",
    "module_path = os.path.abspath(os.path.join('..'))\n",
    "if module_path not in sys.path:\n",
    "    sys.path.append(module_path)\n",
    "from mutil.alemutdf import get_all_sample_mut_df, get_multi_exp_max_freq_mut_df\n",
    "from mutil.mut import is_coding_mut\n",
    "from mutil.metadata import get_condition_val_dict, get_condition_field_val_set\n",
    "from mutil.genome import get_K12_pos_from_BOP27"
   ]
  },
  {
   "cell_type": "code",
   "execution_count": 2,
   "metadata": {
    "scrolled": true
   },
   "outputs": [
    {
     "name": "stderr",
     "output_type": "stream",
     "text": [
      " 51%|█████▏    | 19/37 [00:00<00:00, 182.51it/s]"
     ]
    },
    {
     "name": "stdout",
     "output_type": "stream",
     "text": [
      "./data/muts//ndh-cydB-appC_mut.csv\n"
     ]
    },
    {
     "name": "stderr",
     "output_type": "stream",
     "text": [
      "100%|██████████| 37/37 [00:00<00:00, 178.35it/s]\n",
      "100%|██████████| 29/29 [00:00<00:00, 216.92it/s]\n",
      "  0%|          | 0/17 [00:00<?, ?it/s]"
     ]
    },
    {
     "name": "stdout",
     "output_type": "stream",
     "text": [
      "./data/muts//SSW GLU XYL.csv\n",
      "./data/muts//ndh-cyoB_mut.csv\n"
     ]
    },
    {
     "name": "stderr",
     "output_type": "stream",
     "text": [
      "100%|██████████| 17/17 [00:00<00:00, 172.06it/s]\n",
      "100%|██████████| 20/20 [00:00<00:00, 195.48it/s]\n",
      "  0%|          | 0/48 [00:00<?, ?it/s]"
     ]
    },
    {
     "name": "stdout",
     "output_type": "stream",
     "text": [
      "./data/muts//TOL hexamethylenediamine_mut.csv\n",
      "./data/muts//GLU.csv\n"
     ]
    },
    {
     "name": "stderr",
     "output_type": "stream",
     "text": [
      "100%|██████████| 48/48 [00:00<00:00, 174.93it/s]\n"
     ]
    },
    {
     "data": {
      "text/plain": [
       "{'GLU', 'SSW_GLU_XYL', 'TOL_hexamethylenediamine', 'ndh-cydB-appC', 'ndh-cyoB'}"
      ]
     },
     "metadata": {},
     "output_type": "display_data"
    }
   ],
   "source": [
    "muts_df = get_all_sample_mut_df(\"./data/muts/\")\n",
    "display(set(muts_df[\"exp\"]))"
   ]
  },
  {
   "cell_type": "markdown",
   "metadata": {},
   "source": [
    "Getting number of samples from raw dataset, since by the end of the NB, the samples are flattened into ALEs by the \"ALE-unique mutations\" logic"
   ]
  },
  {
   "cell_type": "code",
   "execution_count": 3,
   "metadata": {},
   "outputs": [],
   "source": [
    "def get_exp_sample_name(exp_name, ale, flask, isolate, tech_rep):\n",
    "    sample_name = exp_name + \" \" + str(int(ale)) + \" \" + str(int(flask)) + \" \" + str(int(isolate)) + \" \" + str(int(tech_rep))\n",
    "    return sample_name\n",
    "\n",
    "muts_df[\"sample\"] = muts_df.apply(lambda r: get_exp_sample_name(r.exp, r.ale, r.flask, r.isolate, r.tech_rep), axis=1)"
   ]
  },
  {
   "cell_type": "code",
   "execution_count": 4,
   "metadata": {},
   "outputs": [
    {
     "data": {
      "text/plain": [
       "151"
      ]
     },
     "execution_count": 4,
     "metadata": {},
     "output_type": "execute_result"
    }
   ],
   "source": [
    "len(muts_df[\"sample\"].unique())"
   ]
  },
  {
   "cell_type": "code",
   "execution_count": 5,
   "metadata": {},
   "outputs": [
    {
     "data": {
      "text/plain": [
       "3264"
      ]
     },
     "execution_count": 5,
     "metadata": {},
     "output_type": "execute_result"
    }
   ],
   "source": [
    "len(muts_df)"
   ]
  },
  {
   "cell_type": "markdown",
   "metadata": {},
   "source": [
    "## remove problem and starting strain mutations"
   ]
  },
  {
   "cell_type": "code",
   "execution_count": 6,
   "metadata": {},
   "outputs": [],
   "source": [
    "# Different experiments have different strings for position (some with commas, some without), therefore going ahead and changing them all to integers\n",
    "muts_df.Position = muts_df.Position.apply(lambda x: int(str(x).replace(\",\",\"\")))\n",
    "muts_df.Position = muts_df.Position.astype(int)"
   ]
  },
  {
   "cell_type": "code",
   "execution_count": 7,
   "metadata": {},
   "outputs": [
    {
     "data": {
      "text/plain": [
       "2528"
      ]
     },
     "metadata": {},
     "output_type": "display_data"
    },
    {
     "data": {
      "text/html": [
       "<div>\n",
       "<style scoped>\n",
       "    .dataframe tbody tr th:only-of-type {\n",
       "        vertical-align: middle;\n",
       "    }\n",
       "\n",
       "    .dataframe tbody tr th {\n",
       "        vertical-align: top;\n",
       "    }\n",
       "\n",
       "    .dataframe thead th {\n",
       "        text-align: right;\n",
       "    }\n",
       "</style>\n",
       "<table border=\"1\" class=\"dataframe\">\n",
       "  <thead>\n",
       "    <tr style=\"text-align: right;\">\n",
       "      <th></th>\n",
       "      <th>exp</th>\n",
       "      <th>ale</th>\n",
       "      <th>flask</th>\n",
       "      <th>isolate</th>\n",
       "      <th>tech_rep</th>\n",
       "      <th>presence</th>\n",
       "      <th>Position</th>\n",
       "      <th>Mutation Type</th>\n",
       "      <th>Sequence Change</th>\n",
       "      <th>Details</th>\n",
       "      <th>Gene</th>\n",
       "      <th>Reference Seq</th>\n",
       "      <th>Mut ID</th>\n",
       "      <th>sample</th>\n",
       "    </tr>\n",
       "  </thead>\n",
       "  <tbody>\n",
       "    <tr>\n",
       "      <th>50</th>\n",
       "      <td>ndh-cydB-appC</td>\n",
       "      <td>0</td>\n",
       "      <td>0</td>\n",
       "      <td>1</td>\n",
       "      <td>1</td>\n",
       "      <td>1.0</td>\n",
       "      <td>4640551</td>\n",
       "      <td>MOB</td>\n",
       "      <td>IS1 (–) +9 bp</td>\n",
       "      <td>intergenic (+9/‑383)</td>\n",
       "      <td>yjjY, yjtD</td>\n",
       "      <td>NC_000913</td>\n",
       "      <td>1656594.0</td>\n",
       "      <td>ndh-cydB-appC 0 0 1 1</td>\n",
       "    </tr>\n",
       "    <tr>\n",
       "      <th>61</th>\n",
       "      <td>ndh-cydB-appC</td>\n",
       "      <td>0</td>\n",
       "      <td>0</td>\n",
       "      <td>1</td>\n",
       "      <td>1</td>\n",
       "      <td>1.0</td>\n",
       "      <td>2375828</td>\n",
       "      <td>MOB</td>\n",
       "      <td>IS186 (+) +4 bp</td>\n",
       "      <td>coding (132‑135/963 nt)</td>\n",
       "      <td>menC</td>\n",
       "      <td>NC_000913</td>\n",
       "      <td>1566872.0</td>\n",
       "      <td>ndh-cydB-appC 0 0 1 1</td>\n",
       "    </tr>\n",
       "    <tr>\n",
       "      <th>68</th>\n",
       "      <td>ndh-cydB-appC</td>\n",
       "      <td>0</td>\n",
       "      <td>0</td>\n",
       "      <td>1</td>\n",
       "      <td>1</td>\n",
       "      <td>1.0</td>\n",
       "      <td>2019460</td>\n",
       "      <td>SNP</td>\n",
       "      <td>G→A</td>\n",
       "      <td>V359I (GTC→ATC)</td>\n",
       "      <td>fliK</td>\n",
       "      <td>NC_000913</td>\n",
       "      <td>669363.0</td>\n",
       "      <td>ndh-cydB-appC 0 0 1 1</td>\n",
       "    </tr>\n",
       "    <tr>\n",
       "      <th>73</th>\n",
       "      <td>ndh-cydB-appC</td>\n",
       "      <td>0</td>\n",
       "      <td>0</td>\n",
       "      <td>1</td>\n",
       "      <td>1</td>\n",
       "      <td>1.0</td>\n",
       "      <td>4406129</td>\n",
       "      <td>SNP</td>\n",
       "      <td>T→C</td>\n",
       "      <td>intergenic (+144/‑61)</td>\n",
       "      <td>purA, nsrR</td>\n",
       "      <td>NC_000913</td>\n",
       "      <td>1102531.0</td>\n",
       "      <td>ndh-cydB-appC 0 0 1 1</td>\n",
       "    </tr>\n",
       "    <tr>\n",
       "      <th>75</th>\n",
       "      <td>ndh-cydB-appC</td>\n",
       "      <td>0</td>\n",
       "      <td>0</td>\n",
       "      <td>1</td>\n",
       "      <td>1</td>\n",
       "      <td>1.0</td>\n",
       "      <td>222965</td>\n",
       "      <td>DEL</td>\n",
       "      <td>(A)8→7</td>\n",
       "      <td>coding (133/576 nt)</td>\n",
       "      <td>gmhB</td>\n",
       "      <td>NC_000913</td>\n",
       "      <td>1656776.0</td>\n",
       "      <td>ndh-cydB-appC 0 0 1 1</td>\n",
       "    </tr>\n",
       "  </tbody>\n",
       "</table>\n",
       "</div>"
      ],
      "text/plain": [
       "              exp  ale  flask  isolate  tech_rep  presence  Position  \\\n",
       "50  ndh-cydB-appC    0      0        1         1       1.0   4640551   \n",
       "61  ndh-cydB-appC    0      0        1         1       1.0   2375828   \n",
       "68  ndh-cydB-appC    0      0        1         1       1.0   2019460   \n",
       "73  ndh-cydB-appC    0      0        1         1       1.0   4406129   \n",
       "75  ndh-cydB-appC    0      0        1         1       1.0    222965   \n",
       "\n",
       "   Mutation Type  Sequence Change                  Details        Gene  \\\n",
       "50           MOB    IS1 (–) +9 bp     intergenic (+9/‑383)  yjjY, yjtD   \n",
       "61           MOB  IS186 (+) +4 bp  coding (132‑135/963 nt)        menC   \n",
       "68           SNP              G→A          V359I (GTC→ATC)        fliK   \n",
       "73           SNP              T→C    intergenic (+144/‑61)  purA, nsrR   \n",
       "75           DEL           (A)8→7      coding (133/576 nt)        gmhB   \n",
       "\n",
       "   Reference Seq     Mut ID                 sample  \n",
       "50     NC_000913  1656594.0  ndh-cydB-appC 0 0 1 1  \n",
       "61     NC_000913  1566872.0  ndh-cydB-appC 0 0 1 1  \n",
       "68     NC_000913   669363.0  ndh-cydB-appC 0 0 1 1  \n",
       "73     NC_000913  1102531.0  ndh-cydB-appC 0 0 1 1  \n",
       "75     NC_000913  1656776.0  ndh-cydB-appC 0 0 1 1  "
      ]
     },
     "metadata": {},
     "output_type": "display_data"
    }
   ],
   "source": [
    "muts_df = muts_df[~(\n",
    "# For whatever reason, the gene annotations can change between version of breseq or runs\n",
    "#     ((muts_df.Gene == \"gatC\")\n",
    "#      | (muts_df.Gene == \"gatC, gatC\"))\n",
    "    ((muts_df.Position == 2173361)\n",
    "       | (muts_df.Position == 2173363)\n",
    "       | (muts_df.Position == 2173364))\n",
    "    & ((muts_df[\"Sequence Change\"] == \"Δ2 bp\")\n",
    "       | (muts_df[\"Sequence Change\"] == \"Δ1 bp\"))\n",
    ")]\n",
    "\n",
    "muts_df = muts_df[~(\n",
    "#     (muts_df.Gene == \"[crl]\")  # For whatever reason, the gene annotations can change between version of breseq or runs\n",
    "    (muts_df.Position == 257908)\n",
    "    & (muts_df[\"Sequence Change\"] == \"Δ776 bp\"))]\n",
    "\n",
    "muts_df = muts_df[~(\n",
    "#     (muts_df.Gene == \"insB1, insA\")  # For whatever reason, the gene annotations can change between version of breseq or runs\n",
    "    (muts_df.Position == 1978503)\n",
    "    & (muts_df[\"Sequence Change\"] == \"Δ776 bp\"))]\n",
    "\n",
    "muts_df = muts_df[~(\n",
    "#     (muts_df.Gene == \"ychE, oppA\")  # For whatever reason, the gene annotations can change between version of breseq or runs\n",
    "    (muts_df.Position == 1299499)\n",
    "    & (muts_df[\"Sequence Change\"] == \"Δ1,199 bp\"))]\n",
    "\n",
    "muts_df = muts_df[~(\n",
    "# For whatever reason, the gene annotations can change between version of breseq or runs\n",
    "#     ((muts_df.Gene == \"glpR\")\n",
    "#      | (muts_df.Gene == \"glpR, glpR\")\n",
    "#      | (muts_df.Gene == \"glpR/glpR\"))\n",
    "    (muts_df.Position == 3560455)\n",
    "    & (muts_df[\"Sequence Change\"] == \"+G\"))]\n",
    "\n",
    "muts_df = muts_df[~(\n",
    "#     (muts_df.Gene == \"gltP, yjcO\")  # For whatever reason, the gene annotations can change between version of breseq or runs\n",
    "    (muts_df.Position == 4296381)\n",
    "    & (muts_df[\"Sequence Change\"] == \"+GC\"))]\n",
    "\n",
    "muts_df = muts_df[~(\n",
    "#     (muts_df.Gene == \"gltP, yjcO\")  # For whatever reason, the gene annotations can change between version of breseq or runs\n",
    "    (muts_df.Position == 4296380)\n",
    "    & (muts_df[\"Sequence Change\"] == \"+CG\"))]\n",
    "\n",
    "muts_df = muts_df[~(\n",
    "#     (muts_df.Gene == \"insB1,insA\")  # For whatever reason, the gene annotations can change between version of breseq or runs\n",
    "    (muts_df.Position == 1978503)\n",
    "    & (muts_df[\"Sequence Change\"] == \"Δ776 bp\"))]\n",
    "\n",
    "muts_df = muts_df[~(\n",
    "#     ((muts_df.Gene == \"insA/uspC\") | (muts_df.Gene == \"insA, uspC\"))  # For whatever reason, the gene annotations can change between version of breseq or runs\n",
    "    (muts_df.Position == 1979486)\n",
    "    & (muts_df[\"Sequence Change\"] == \"IS5 (+) +4 bp\"))]\n",
    "\n",
    "\n",
    "muts_df = muts_df[~(\n",
    "#     (muts_df.Gene == \"corA\")  # For whatever reason, the gene annotations can change between version of breseq or runs\n",
    "    (muts_df.exp != \"GLU\")  # This is the ALE that originated the corA mutation that is found in all CCK samples, therefore should track\n",
    "    & (muts_df.Position == 4001645)\n",
    "    & (muts_df[\"Sequence Change\"] == \"Δ5 bp\"))]\n",
    "\n",
    "\n",
    "muts_df = muts_df[~(\n",
    "#     (muts_df.Gene == \"wcaA\")  # For whatever reason, the gene annotations can change between version of breseq or runs\n",
    "    (muts_df.exp != \"GLU\")  # This is the ALE that originated the corA mutation that is found in all CCK samples, therefore should track\n",
    "    & (muts_df.Position == 2132787)\n",
    "    & (muts_df[\"Details\"] == \"I204S (ATC→AGC)\"))]\n",
    "\n",
    "\n",
    "p = {4293212, 4293403, 4293430, 4296060, 4296154, 4296189,\n",
    " 4296190, 4296191, 4296267, 4296268, 4296286, 4296380, 4296382}\n",
    "ch = {'+C', '+G', 'A→C', 'A→G', 'A→T', 'C→A', 'C→T', 'T→C'}\n",
    "muts_df = muts_df[~(\n",
    "#     (muts_df.Gene == \"gltP, yjcO\")\n",
    "    (muts_df[\"Position\"].isin(p))\n",
    "    & (muts_df[\"Sequence Change\"].isin(ch))\n",
    "       )]\n",
    "\n",
    "display(len(muts_df), muts_df.head())"
   ]
  },
  {
   "cell_type": "code",
   "execution_count": 8,
   "metadata": {},
   "outputs": [],
   "source": [
    "reduced_ecoli_ale = 'application_of_ALE_to_re-optimize_growth_performance_of_genome-reduced_strain_MS56-M9-MG1655gbk'\n",
    "MG1655_pBGT_untreated = \"MG1655-pBGT_untreated\"\n",
    "MG1655_untreated = \"MG1655_untreated\"\n",
    "MG1655_blaTEM1_untreated = \"MG1655-blaTEM1_untreated\"\n",
    "muts_to_remove = [\n",
    "    {\"experiment\":MG1655_blaTEM1_untreated,\"position\":1397381,\"sequence change\":\"Δ13,756 bp\"},\n",
    "    {\"experiment\":MG1655_untreated,\"position\":1397381,\"sequence change\":\"Δ13,756 bp\"},\n",
    "    {\"experiment\":MG1655_pBGT_untreated,\"position\":1397381,\"sequence change\":\"Δ13,756 bp\"},\n",
    "    {\"experiment\":reduced_ecoli_ale,\"position\":389898,\"sequence change\":\"Δ9,908 bp\"},\n",
    "    {\"experiment\":reduced_ecoli_ale,\"position\":1388889,\"sequence change\":\"Δ9,734 bp\"},\n",
    "    {\"experiment\":reduced_ecoli_ale,\"position\":2466545,\"sequence change\":\"Δ9,634 bp\"},\n",
    "    {\"experiment\":reduced_ecoli_ale,\"position\":729365,\"sequence change\":\"Δ9,598 bp\"},\n",
    "    {\"experiment\":reduced_ecoli_ale,\"position\":3815859,\"sequence change\":\"Δ82 bp\"},\n",
    "    {\"experiment\":reduced_ecoli_ale,\"position\":1400325,\"sequence change\":\"Δ81,931 bp\"},\n",
    "    {\"experiment\":reduced_ecoli_ale,\"position\":380112,\"sequence change\":\"Δ8,537 bp\"},\n",
    "    {\"experiment\":reduced_ecoli_ale,\"position\":2509631,\"sequence change\":\"Δ8,319 bp\"},\n",
    "    {\"experiment\":reduced_ecoli_ale,\"position\":3761993,\"sequence change\":\"Δ8,250 bp\"},\n",
    "    {\"experiment\":reduced_ecoli_ale,\"position\":257908,\"sequence change\":\"Δ776 bp\"},\n",
    "    {\"experiment\":reduced_ecoli_ale,\"position\":1978503,\"sequence change\":\"Δ776 bp\"},\n",
    "    {\"experiment\":reduced_ecoli_ale,\"position\":1040502,\"sequence change\":\"Δ73,763 bp\"},\n",
    "    {\"experiment\":reduced_ecoli_ale,\"position\":3090347,\"sequence change\":\"Δ708 bp\"},\n",
    "    {\"experiment\":reduced_ecoli_ale,\"position\":675552,\"sequence change\":\"Δ7,819 bp\"},\n",
    "    {\"experiment\":reduced_ecoli_ale,\"position\":4400289,\"sequence change\":\"Δ7 bp\"},\n",
    "    {\"experiment\":reduced_ecoli_ale,\"position\":819776,\"sequence change\":\"Δ62,977 bp\"},\n",
    "    {\"experiment\":reduced_ecoli_ale,\"position\":263514,\"sequence change\":\"Δ61,897 bp\"},\n",
    "    {\"experiment\":reduced_ecoli_ale,\"position\":3184782,\"sequence change\":\"Δ6,916 bp\"},\n",
    "    {\"experiment\":reduced_ecoli_ale,\"position\":997868,\"sequence change\":\"Δ6,818 bp\"},\n",
    "    {\"experiment\":reduced_ecoli_ale,\"position\":2558699,\"sequence change\":\"Δ6,790 bp\"},\n",
    "    {\"experiment\":reduced_ecoli_ale,\"position\":3618992,\"sequence change\":\"Δ6,688 bp\"},\n",
    "    {\"experiment\":reduced_ecoli_ale,\"position\":4496676,\"sequence change\":\"Δ53,036 bp\"},\n",
    "    {\"experiment\":reduced_ecoli_ale,\"position\":167484,\"sequence change\":\"Δ5,964 bp\"},\n",
    "    {\"experiment\":reduced_ecoli_ale,\"position\":603467,\"sequence change\":\"Δ5,885 bp\"},\n",
    "    {\"experiment\":reduced_ecoli_ale,\"position\":3362162,\"sequence change\":\"Δ5,481 bp\"},\n",
    "    {\"experiment\":reduced_ecoli_ale,\"position\":765208,\"sequence change\":\"Δ5,405 bp\"},\n",
    "    {\"experiment\":reduced_ecoli_ale,\"position\":15389,\"sequence change\":\"Δ5,175 bp\"},\n",
    "    {\"experiment\":reduced_ecoli_ale,\"position\":1509562,\"sequence change\":\"Δ46,201 bp\"},\n",
    "    {\"experiment\":reduced_ecoli_ale,\"position\":332366,\"sequence change\":\"Δ44,951 bp\"},\n",
    "    {\"experiment\":reduced_ecoli_ale,\"position\":4555491,\"sequence change\":\"Δ41,523 bp\"},\n",
    "    {\"experiment\":reduced_ecoli_ale,\"position\":508873,\"sequence change\":\"Δ40,744 bp\"},\n",
    "    {\"experiment\":reduced_ecoli_ale,\"position\":1223090,\"sequence change\":\"Δ4 bp\"},\n",
    "    {\"experiment\":reduced_ecoli_ale,\"position\":2101397,\"sequence change\":\"Δ36,321 bp\"},\n",
    "    {\"experiment\":reduced_ecoli_ale,\"position\":2756160,\"sequence change\":\"Δ35,091 bp\"},\n",
    "    {\"experiment\":reduced_ecoli_ale,\"position\":2204350,\"sequence change\":\"Δ32,368 bp\"},\n",
    "    {\"experiment\":reduced_ecoli_ale,\"position\":2994992,\"sequence change\":\"Δ3,877 bp\"},\n",
    "    {\"experiment\":reduced_ecoli_ale,\"position\":2286401,\"sequence change\":\"Δ3,780 bp\"},\n",
    "    {\"experiment\":reduced_ecoli_ale,\"position\":1997112,\"sequence change\":\"Δ26,567 bp\"},\n",
    "    {\"experiment\":reduced_ecoli_ale,\"position\":1197137,\"sequence change\":\"Δ25,940 bp\"},\n",
    "    {\"experiment\":reduced_ecoli_ale,\"position\":4299628,\"sequence change\":\"Δ25,538 bp\"},\n",
    "    {\"experiment\":reduced_ecoli_ale,\"position\":1627518,\"sequence change\":\"Δ25,244 bp\"},\n",
    "    {\"experiment\":reduced_ecoli_ale,\"position\":565055,\"sequence change\":\"Δ21,054 bp\"},\n",
    "    {\"experiment\":reduced_ecoli_ale,\"position\":2846301,\"sequence change\":\"Δ20,968 bp\"},\n",
    "    {\"experiment\":reduced_ecoli_ale,\"position\":3651293,\"sequence change\":\"Δ2,422 bp\"},\n",
    "    {\"experiment\":reduced_ecoli_ale,\"position\":2173363,\"sequence change\":\"Δ2 bp\"},\n",
    "    {\"experiment\":reduced_ecoli_ale,\"position\":3888432,\"sequence change\":\"Δ18,167 bp\"},\n",
    "    {\"experiment\":reduced_ecoli_ale,\"position\":1962566,\"sequence change\":\"Δ16,764 bp\"},\n",
    "    {\"experiment\":reduced_ecoli_ale,\"position\":2320144,\"sequence change\":\"Δ16,489 bp\"},\n",
    "    {\"experiment\":reduced_ecoli_ale,\"position\":3453928,\"sequence change\":\"Δ15,926 bp\"},\n",
    "    {\"experiment\":reduced_ecoli_ale,\"position\":2601201,\"sequence change\":\"Δ13,595 bp\"},\n",
    "    {\"experiment\":reduced_ecoli_ale,\"position\":2165151,\"sequence change\":\"Δ12,060 bp\"},\n",
    "    {\"experiment\":reduced_ecoli_ale,\"position\":1129397,\"sequence change\":\"Δ11,591 bp\"},\n",
    "    {\"experiment\":reduced_ecoli_ale,\"position\":3593299,\"sequence change\":\"Δ10 bp\"},\n",
    "    {\"experiment\":reduced_ecoli_ale,\"position\":3720634,\"sequence change\":\"Δ1,442 bp\"},\n",
    "    {\"experiment\":reduced_ecoli_ale,\"position\":1872030,\"sequence change\":\"Δ1,437 bp\"},\n",
    "    {\"experiment\":reduced_ecoli_ale,\"position\":1299499,\"sequence change\":\"Δ1,199 bp\"},\n",
    "    {\"experiment\":reduced_ecoli_ale,\"position\":687860,\"sequence change\":\"Δ1,185 bp\"},\n",
    "    {\"experiment\":reduced_ecoli_ale,\"position\":3581139,\"sequence change\":\"3915 bp→6 bp\"},\n",
    "    {\"experiment\":reduced_ecoli_ale,\"position\":1197137,\"sequence change\":\"25956 bp→12 bp\"},\n",
    "    {\"experiment\":reduced_ecoli_ale,\"position\":3110680,\"sequence change\":\"25702 bp→GA\"},\n",
    "]"
   ]
  },
  {
   "cell_type": "code",
   "execution_count": 9,
   "metadata": {},
   "outputs": [
    {
     "data": {
      "text/plain": [
       "2528"
      ]
     },
     "metadata": {},
     "output_type": "display_data"
    },
    {
     "data": {
      "text/html": [
       "<div>\n",
       "<style scoped>\n",
       "    .dataframe tbody tr th:only-of-type {\n",
       "        vertical-align: middle;\n",
       "    }\n",
       "\n",
       "    .dataframe tbody tr th {\n",
       "        vertical-align: top;\n",
       "    }\n",
       "\n",
       "    .dataframe thead th {\n",
       "        text-align: right;\n",
       "    }\n",
       "</style>\n",
       "<table border=\"1\" class=\"dataframe\">\n",
       "  <thead>\n",
       "    <tr style=\"text-align: right;\">\n",
       "      <th></th>\n",
       "      <th>exp</th>\n",
       "      <th>ale</th>\n",
       "      <th>flask</th>\n",
       "      <th>isolate</th>\n",
       "      <th>tech_rep</th>\n",
       "      <th>presence</th>\n",
       "      <th>Position</th>\n",
       "      <th>Mutation Type</th>\n",
       "      <th>Sequence Change</th>\n",
       "      <th>Details</th>\n",
       "      <th>Gene</th>\n",
       "      <th>Reference Seq</th>\n",
       "      <th>Mut ID</th>\n",
       "      <th>sample</th>\n",
       "    </tr>\n",
       "  </thead>\n",
       "  <tbody>\n",
       "    <tr>\n",
       "      <th>50</th>\n",
       "      <td>ndh-cydB-appC</td>\n",
       "      <td>0</td>\n",
       "      <td>0</td>\n",
       "      <td>1</td>\n",
       "      <td>1</td>\n",
       "      <td>1.0</td>\n",
       "      <td>4640551</td>\n",
       "      <td>MOB</td>\n",
       "      <td>IS1 (–) +9 bp</td>\n",
       "      <td>intergenic (+9/‑383)</td>\n",
       "      <td>yjjY, yjtD</td>\n",
       "      <td>NC_000913</td>\n",
       "      <td>1656594.0</td>\n",
       "      <td>ndh-cydB-appC 0 0 1 1</td>\n",
       "    </tr>\n",
       "    <tr>\n",
       "      <th>61</th>\n",
       "      <td>ndh-cydB-appC</td>\n",
       "      <td>0</td>\n",
       "      <td>0</td>\n",
       "      <td>1</td>\n",
       "      <td>1</td>\n",
       "      <td>1.0</td>\n",
       "      <td>2375828</td>\n",
       "      <td>MOB</td>\n",
       "      <td>IS186 (+) +4 bp</td>\n",
       "      <td>coding (132‑135/963 nt)</td>\n",
       "      <td>menC</td>\n",
       "      <td>NC_000913</td>\n",
       "      <td>1566872.0</td>\n",
       "      <td>ndh-cydB-appC 0 0 1 1</td>\n",
       "    </tr>\n",
       "    <tr>\n",
       "      <th>68</th>\n",
       "      <td>ndh-cydB-appC</td>\n",
       "      <td>0</td>\n",
       "      <td>0</td>\n",
       "      <td>1</td>\n",
       "      <td>1</td>\n",
       "      <td>1.0</td>\n",
       "      <td>2019460</td>\n",
       "      <td>SNP</td>\n",
       "      <td>G→A</td>\n",
       "      <td>V359I (GTC→ATC)</td>\n",
       "      <td>fliK</td>\n",
       "      <td>NC_000913</td>\n",
       "      <td>669363.0</td>\n",
       "      <td>ndh-cydB-appC 0 0 1 1</td>\n",
       "    </tr>\n",
       "    <tr>\n",
       "      <th>73</th>\n",
       "      <td>ndh-cydB-appC</td>\n",
       "      <td>0</td>\n",
       "      <td>0</td>\n",
       "      <td>1</td>\n",
       "      <td>1</td>\n",
       "      <td>1.0</td>\n",
       "      <td>4406129</td>\n",
       "      <td>SNP</td>\n",
       "      <td>T→C</td>\n",
       "      <td>intergenic (+144/‑61)</td>\n",
       "      <td>purA, nsrR</td>\n",
       "      <td>NC_000913</td>\n",
       "      <td>1102531.0</td>\n",
       "      <td>ndh-cydB-appC 0 0 1 1</td>\n",
       "    </tr>\n",
       "    <tr>\n",
       "      <th>75</th>\n",
       "      <td>ndh-cydB-appC</td>\n",
       "      <td>0</td>\n",
       "      <td>0</td>\n",
       "      <td>1</td>\n",
       "      <td>1</td>\n",
       "      <td>1.0</td>\n",
       "      <td>222965</td>\n",
       "      <td>DEL</td>\n",
       "      <td>(A)8→7</td>\n",
       "      <td>coding (133/576 nt)</td>\n",
       "      <td>gmhB</td>\n",
       "      <td>NC_000913</td>\n",
       "      <td>1656776.0</td>\n",
       "      <td>ndh-cydB-appC 0 0 1 1</td>\n",
       "    </tr>\n",
       "  </tbody>\n",
       "</table>\n",
       "</div>"
      ],
      "text/plain": [
       "              exp  ale  flask  isolate  tech_rep  presence  Position  \\\n",
       "50  ndh-cydB-appC    0      0        1         1       1.0   4640551   \n",
       "61  ndh-cydB-appC    0      0        1         1       1.0   2375828   \n",
       "68  ndh-cydB-appC    0      0        1         1       1.0   2019460   \n",
       "73  ndh-cydB-appC    0      0        1         1       1.0   4406129   \n",
       "75  ndh-cydB-appC    0      0        1         1       1.0    222965   \n",
       "\n",
       "   Mutation Type  Sequence Change                  Details        Gene  \\\n",
       "50           MOB    IS1 (–) +9 bp     intergenic (+9/‑383)  yjjY, yjtD   \n",
       "61           MOB  IS186 (+) +4 bp  coding (132‑135/963 nt)        menC   \n",
       "68           SNP              G→A          V359I (GTC→ATC)        fliK   \n",
       "73           SNP              T→C    intergenic (+144/‑61)  purA, nsrR   \n",
       "75           DEL           (A)8→7      coding (133/576 nt)        gmhB   \n",
       "\n",
       "   Reference Seq     Mut ID                 sample  \n",
       "50     NC_000913  1656594.0  ndh-cydB-appC 0 0 1 1  \n",
       "61     NC_000913  1566872.0  ndh-cydB-appC 0 0 1 1  \n",
       "68     NC_000913   669363.0  ndh-cydB-appC 0 0 1 1  \n",
       "73     NC_000913  1102531.0  ndh-cydB-appC 0 0 1 1  \n",
       "75     NC_000913  1656776.0  ndh-cydB-appC 0 0 1 1  "
      ]
     },
     "metadata": {},
     "output_type": "display_data"
    }
   ],
   "source": [
    "for mut in muts_to_remove:\n",
    "    muts_df = muts_df[~(\n",
    "        (muts_df[\"exp\"] == mut[\"experiment\"])\n",
    "        & (muts_df[\"Position\"] == mut[\"position\"])\n",
    "        & (muts_df[\"Sequence Change\"] == mut[\"sequence change\"])\n",
    "    )]\n",
    "display(len(muts_df), muts_df.head())"
   ]
  },
  {
   "cell_type": "markdown",
   "metadata": {},
   "source": [
    "## Remove experiment specific starting strain mutations"
   ]
  },
  {
   "cell_type": "code",
   "execution_count": 10,
   "metadata": {},
   "outputs": [
    {
     "data": {
      "text/plain": [
       "array(['ndh-cydB-appC', 'SSW_GLU_XYL', 'ndh-cyoB',\n",
       "       'TOL_hexamethylenediamine', 'GLU'], dtype=object)"
      ]
     },
     "execution_count": 10,
     "metadata": {},
     "output_type": "execute_result"
    }
   ],
   "source": [
    "muts_df.exp.unique()"
   ]
  },
  {
   "cell_type": "code",
   "execution_count": 11,
   "metadata": {},
   "outputs": [
    {
     "name": "stdout",
     "output_type": "stream",
     "text": [
      "2528\n"
     ]
    }
   ],
   "source": [
    "# Filter the following mutations out if they come from specific experiments.\n",
    "muts_df = muts_df[(~((muts_df.exp==\"SER\") & (muts_df[\"Gene\"]==\"cyoB\") & (muts_df[\"Details\"]==\"W190* (TGG→TAG)\")))]\n",
    "muts_df = muts_df[(~((muts_df.exp==\"SER\") & (muts_df[\"Gene\"]==\"eno\") & (muts_df[\"Details\"]==\"L193Q (CTG→CAG)\")))]\n",
    "muts_df = muts_df[(~((muts_df.exp==\"SER\") & (muts_df[\"Gene\"]==\"chbF\") & (muts_df[\"Details\"]==\"V133E (GTA→GAA)\")))]\n",
    "muts_df = muts_df[(~((muts_df.exp==\"SER\") & (muts_df[\"Gene\"]==\"fumC\") & (muts_df[\"Details\"]==\"G354G (GGT→GGC)\")))]\n",
    "muts_df = muts_df[(~((muts_df.exp==\"SER\") & (muts_df[\"Gene\"]==\"yegE\") & (muts_df[\"Details\"]==\"S683Y (TCC→TAC)\")))]\n",
    "muts_df = muts_df[(~((muts_df.exp==\"SER\") & (muts_df[\"Gene\"]==\"rcsC\") & (muts_df[\"Details\"]==\"L594F (TTG→TTC)\")))]\n",
    "\n",
    "\n",
    "muts_df = muts_df[(~((muts_df.exp==\"GYD\") & (muts_df[\"Gene\"]==\"fumC\") & (muts_df[\"Details\"]==\"G354G (GGT→GGC)\")))]\n",
    "muts_df = muts_df[(~((muts_df.exp==\"GYD\") & (muts_df[\"Gene\"]==\"yegE\") & (muts_df[\"Details\"]==\"S683Y (TCC→TAC)\")))]\n",
    "muts_df = muts_df[(~((muts_df.exp==\"GYD\") & (muts_df[\"Gene\"]==\"rcsC\") & (muts_df[\"Details\"]==\"L594F (TTG→TTC)\")))]\n",
    "\n",
    "\n",
    "cck_exp_list = [\n",
    "    \"tpi\",\n",
    "    \"pts\",\n",
    "    \"pgi\",\n",
    "    \"sdh\",\n",
    "    \"gnd\",\n",
    "    \"evo\"\n",
    "]\n",
    "\n",
    "muts_df = muts_df[~(\n",
    "    (muts_df.exp.isin(cck_exp_list))\n",
    "    & (\n",
    "        (muts_df[\"Gene\"]==\"wcaA\")\n",
    "        | (muts_df[\"Gene\"]==\"corA\")\n",
    "    )\n",
    ")]  # The details of the mutations to filter out should probably include the sequence change.\n",
    "print(len(muts_df))"
   ]
  },
  {
   "cell_type": "markdown",
   "metadata": {},
   "source": [
    "### Removing MG1655_anchestor mutations"
   ]
  },
  {
   "cell_type": "code",
   "execution_count": 12,
   "metadata": {},
   "outputs": [],
   "source": [
    "# to use with filtering out mutations \n",
    "muts_df = muts_df.reset_index(drop=True)"
   ]
  },
  {
   "cell_type": "code",
   "execution_count": 13,
   "metadata": {},
   "outputs": [
    {
     "data": {
      "text/html": [
       "<div>\n",
       "<style scoped>\n",
       "    .dataframe tbody tr th:only-of-type {\n",
       "        vertical-align: middle;\n",
       "    }\n",
       "\n",
       "    .dataframe tbody tr th {\n",
       "        vertical-align: top;\n",
       "    }\n",
       "\n",
       "    .dataframe thead th {\n",
       "        text-align: right;\n",
       "    }\n",
       "</style>\n",
       "<table border=\"1\" class=\"dataframe\">\n",
       "  <thead>\n",
       "    <tr style=\"text-align: right;\">\n",
       "      <th></th>\n",
       "      <th>exp</th>\n",
       "      <th>ale</th>\n",
       "      <th>flask</th>\n",
       "      <th>isolate</th>\n",
       "      <th>tech_rep</th>\n",
       "      <th>presence</th>\n",
       "      <th>Position</th>\n",
       "      <th>Mutation Type</th>\n",
       "      <th>Sequence Change</th>\n",
       "      <th>Details</th>\n",
       "      <th>Gene</th>\n",
       "      <th>Reference Seq</th>\n",
       "      <th>Mut ID</th>\n",
       "      <th>sample</th>\n",
       "    </tr>\n",
       "  </thead>\n",
       "  <tbody>\n",
       "  </tbody>\n",
       "</table>\n",
       "</div>"
      ],
      "text/plain": [
       "Empty DataFrame\n",
       "Columns: [exp, ale, flask, isolate, tech_rep, presence, Position, Mutation Type, Sequence Change, Details, Gene, Reference Seq, Mut ID, sample]\n",
       "Index: []"
      ]
     },
     "execution_count": 13,
     "metadata": {},
     "output_type": "execute_result"
    }
   ],
   "source": [
    "# Not many. Going to manual remove (see cell below)\n",
    "# This is for the Ecoli_resistance_caz\n",
    "# Sebastian often uses the name \"MG1655_anchestor\" \n",
    "MG1655_anchestor = muts_df[muts_df.exp==\"MG1655_anchestor\"].copy()\n",
    "MG1655_anchestor"
   ]
  },
  {
   "cell_type": "code",
   "execution_count": 14,
   "metadata": {},
   "outputs": [
    {
     "name": "stdout",
     "output_type": "stream",
     "text": [
      "2528\n",
      "2528\n"
     ]
    }
   ],
   "source": [
    "print(len(muts_df))\n",
    "muts_df = muts_df[~(muts_df.index.isin(list(MG1655_anchestor.index)))]\n",
    "print(len(muts_df))"
   ]
  },
  {
   "cell_type": "code",
   "execution_count": 15,
   "metadata": {},
   "outputs": [
    {
     "name": "stdout",
     "output_type": "stream",
     "text": [
      "2528\n"
     ]
    }
   ],
   "source": [
    "muts_df = muts_df[(~((muts_df.exp==\"MG1655_chloramphenicol\") & (muts_df[\"Position\"]==4390754) & (muts_df[\"Details\"]==\"A252A (GCC→GCA)\")))]\n",
    "muts_df = muts_df[(~((muts_df.exp==\"MG1655_chloramphenicol\") & (muts_df[\"Position\"]==803662) & (muts_df[\"Details\"]==\"L54I (CTT→ATT)\")))]\n",
    "muts_df = muts_df[(~((muts_df.exp==\"MG1655_chloramphenicol\") & (muts_df[\"Position\"]==1905761) & (muts_df[\"Details\"]==\"G25D (GGT→GAT)\")))]\n",
    "\n",
    "muts_df = muts_df[(~((muts_df.exp==\"MG1655_doxycycline\") & (muts_df[\"Position\"]==4390754) & (muts_df[\"Details\"]==\"A252A (GCC→GCA)\")))]\n",
    "muts_df = muts_df[(~((muts_df.exp==\"MG1655_doxycycline\") & (muts_df[\"Position\"]==803662) & (muts_df[\"Details\"]==\"L54I (CTT→ATT)\")))]\n",
    "muts_df = muts_df[(~((muts_df.exp==\"MG1655_doxycycline\") & (muts_df[\"Position\"]==1905761) & (muts_df[\"Details\"]==\"G25D (GGT→GAT)\")))]\n",
    "\n",
    "muts_df = muts_df[(~((muts_df.exp==\"MG1655_trimethoprim\") & (muts_df[\"Position\"]==4390754) & (muts_df[\"Details\"]==\"A252A (GCC→GCA)\")))]\n",
    "muts_df = muts_df[(~((muts_df.exp==\"MG1655_trimethoprim\") & (muts_df[\"Position\"]==803662) & (muts_df[\"Details\"]==\"L54I (CTT→ATT)\")))]\n",
    "muts_df = muts_df[(~((muts_df.exp==\"MG1655_trimethoprim\") & (muts_df[\"Position\"]==1905761) & (muts_df[\"Details\"]==\"G25D (GGT→GAT)\")))]\n",
    "print(len(muts_df))"
   ]
  },
  {
   "cell_type": "markdown",
   "metadata": {},
   "source": [
    "### Starting strain mutations according to samples within experiments with starting strain AFIRs"
   ]
  },
  {
   "cell_type": "code",
   "execution_count": 16,
   "metadata": {},
   "outputs": [],
   "source": [
    "# to use with filtering out mutations \n",
    "muts_df = muts_df.reset_index(drop=True)"
   ]
  },
  {
   "cell_type": "code",
   "execution_count": 17,
   "metadata": {},
   "outputs": [
    {
     "name": "stdout",
     "output_type": "stream",
     "text": [
      "2231\n"
     ]
    }
   ],
   "source": [
    "# Remove starting strain mutations from all experiments according to each experiment's starting strain\n",
    "\n",
    "def _get_sample_name(ale, flask, isolate, tech_rep):  # Doesn't include the experiment name\n",
    "    sample_name = str(int(ale)) + \" \" + str(int(flask)) + \" \" + str(int(isolate)) + \" \" + str(int(tech_rep))\n",
    "    return sample_name\n",
    "\n",
    "muts_df[\"sample\"] = muts_df.apply(lambda r: _get_sample_name(r.ale, r.flask, r.isolate, r.tech_rep), axis=1)\n",
    "muts_df\n",
    "\n",
    "muts_df = muts_df.copy()\n",
    "starting_strains = muts_df[muts_df[\"sample\"]==\"0 0 1 1\"]  # Need an exact match\n",
    "muts_df = muts_df[muts_df[\"sample\"]!=\"0 0 1 1\"]  # remove starting strain samples\n",
    "for e, exp_starting_strain_muts in starting_strains.groupby(\"exp\"):\n",
    "    rows_to_filter = (\n",
    "        muts_df[\"exp\"].isin(exp_starting_strain_muts[\"exp\"])\n",
    "        & muts_df[\"Position\"].isin(exp_starting_strain_muts[\"Position\"])\n",
    "        & muts_df[\"Sequence Change\"].isin(exp_starting_strain_muts[\"Sequence Change\"])\n",
    "        & muts_df[\"Details\"].isin(exp_starting_strain_muts[\"Details\"])\n",
    "    )\n",
    "    muts_df.drop(muts_df[rows_to_filter].index, inplace=True)  # have to ensure that muts_df indeces are unique\n",
    "print(len(muts_df))"
   ]
  },
  {
   "cell_type": "markdown",
   "metadata": {},
   "source": [
    "###  Check that no weird mutations references are included in dataset, since they won't match to RegulonDB's data"
   ]
  },
  {
   "cell_type": "code",
   "execution_count": 18,
   "metadata": {},
   "outputs": [
    {
     "name": "stdout",
     "output_type": "stream",
     "text": [
      "NC_000913 ['ndh-cydB-appC' 'ndh-cyoB' 'TOL_hexamethylenediamine' 'GLU']\n"
     ]
    }
   ],
   "source": [
    "for ref_seq, df in muts_df.groupby(\"Reference Seq\"):\n",
    "    print(ref_seq, df.exp.unique())"
   ]
  },
  {
   "cell_type": "markdown",
   "metadata": {},
   "source": [
    "According the the prevous results, TOL_isobutyric_acid has one weird mutation. Going to remove it."
   ]
  },
  {
   "cell_type": "code",
   "execution_count": 19,
   "metadata": {},
   "outputs": [
    {
     "data": {
      "text/plain": [
       "array(['NC_000913', nan], dtype=object)"
      ]
     },
     "execution_count": 19,
     "metadata": {},
     "output_type": "execute_result"
    }
   ],
   "source": [
    "muts_df = muts_df[muts_df[\"Reference Seq\"] != \"CP009273\"]\n",
    "muts_df[\"Reference Seq\"].unique()"
   ]
  },
  {
   "cell_type": "code",
   "execution_count": 20,
   "metadata": {},
   "outputs": [
    {
     "name": "stdout",
     "output_type": "stream",
     "text": [
      "28\n"
     ]
    }
   ],
   "source": [
    "# removing samples not incuded in GYD MS for AVA MS\n",
    "\n",
    "muts_df = muts_df[\n",
    "    ~(\n",
    "        (muts_df.exp == \"GYD\")\n",
    "        & ((muts_df.ale == 35) | (muts_df.ale == 34))\n",
    "    )\n",
    "]\n",
    "print(len(muts_df.apply(lambda r: r.exp + \" \" + str(r.ale), axis=1).unique()))"
   ]
  },
  {
   "cell_type": "code",
   "execution_count": 21,
   "metadata": {},
   "outputs": [
    {
     "name": "stdout",
     "output_type": "stream",
     "text": [
      "28\n",
      "25\n"
     ]
    }
   ],
   "source": [
    "# Amount of ALEs before removal\n",
    "print(len(muts_df.apply(lambda r: r.exp + \" \" + str(r.ale), axis=1).unique()))\n",
    "\n",
    "# removing hypermutators since they will affect associations\n",
    "\n",
    "muts_df = muts_df[\n",
    "    ~(\n",
    "        (muts_df.exp == \"GLU\")\n",
    "        & ((muts_df.ale == 5) | (muts_df.ale == 7))\n",
    "    )\n",
    "]\n",
    "\n",
    "muts_df = muts_df[\n",
    "    ~(\n",
    "        (muts_df.exp == \"TOL_2,3-butanediol\")\n",
    "        & (muts_df.ale == 3)\n",
    "    )\n",
    "]\n",
    "\n",
    "muts_df = muts_df[\n",
    "    ~(\n",
    "        (muts_df.exp == \"TOL_adipic_acid\")\n",
    "        & (muts_df.ale == 5)\n",
    "    )\n",
    "]\n",
    "\n",
    "muts_df = muts_df[\n",
    "    ~(\n",
    "        (muts_df.exp == \"TOL_hexamethylenediamine\")\n",
    "        & (muts_df.ale == 6)\n",
    "    )\n",
    "]\n",
    "\n",
    "muts_df = muts_df[\n",
    "    ~(\n",
    "        (muts_df.exp == \"TOL_octanoic_acid\")\n",
    "        & (muts_df.ale == 5)\n",
    "    )\n",
    "]\n",
    "\n",
    "muts_df = muts_df[\n",
    "    ~(\n",
    "        (muts_df.exp == \"TOL_propanediol\")\n",
    "        & ((muts_df.ale == 1) | (muts_df.ale == 2) | (muts_df.ale == 3) | (muts_df.ale == 4) | (muts_df.ale == 5) | (muts_df.ale == 7) | (muts_df.ale == 8))\n",
    "    )\n",
    "]\n",
    "\n",
    "print(len(muts_df.apply(lambda r: r.exp + \" \" + str(r.ale), axis=1).unique()))"
   ]
  },
  {
   "cell_type": "code",
   "execution_count": 22,
   "metadata": {},
   "outputs": [
    {
     "name": "stdout",
     "output_type": "stream",
     "text": [
      "1202\n",
      "1086\n"
     ]
    }
   ],
   "source": [
    "print(len(muts_df))\n",
    "muts_df = muts_df[muts_df.presence >= 0.5]\n",
    "print(len(muts_df))"
   ]
  },
  {
   "cell_type": "code",
   "execution_count": 23,
   "metadata": {},
   "outputs": [
    {
     "data": {
      "text/html": [
       "<div>\n",
       "<style scoped>\n",
       "    .dataframe tbody tr th:only-of-type {\n",
       "        vertical-align: middle;\n",
       "    }\n",
       "\n",
       "    .dataframe tbody tr th {\n",
       "        vertical-align: top;\n",
       "    }\n",
       "\n",
       "    .dataframe thead th {\n",
       "        text-align: right;\n",
       "    }\n",
       "</style>\n",
       "<table border=\"1\" class=\"dataframe\">\n",
       "  <thead>\n",
       "    <tr style=\"text-align: right;\">\n",
       "      <th></th>\n",
       "      <th>exp</th>\n",
       "      <th>ale</th>\n",
       "      <th>flask</th>\n",
       "      <th>isolate</th>\n",
       "      <th>tech_rep</th>\n",
       "      <th>presence</th>\n",
       "      <th>Position</th>\n",
       "      <th>Mutation Type</th>\n",
       "      <th>Sequence Change</th>\n",
       "      <th>Details</th>\n",
       "      <th>Gene</th>\n",
       "      <th>Reference Seq</th>\n",
       "      <th>Mut ID</th>\n",
       "      <th>sample</th>\n",
       "    </tr>\n",
       "  </thead>\n",
       "  <tbody>\n",
       "    <tr>\n",
       "      <th>12</th>\n",
       "      <td>ndh-cydB-appC</td>\n",
       "      <td>10</td>\n",
       "      <td>13</td>\n",
       "      <td>0</td>\n",
       "      <td>1</td>\n",
       "      <td>1.00</td>\n",
       "      <td>222958</td>\n",
       "      <td>DEL</td>\n",
       "      <td>Δ1 bp</td>\n",
       "      <td>coding (126/576 nt)</td>\n",
       "      <td>gmhB</td>\n",
       "      <td>NC_000913</td>\n",
       "      <td>1656779.0</td>\n",
       "      <td>10 13 0 1</td>\n",
       "    </tr>\n",
       "    <tr>\n",
       "      <th>14</th>\n",
       "      <td>ndh-cydB-appC</td>\n",
       "      <td>10</td>\n",
       "      <td>22</td>\n",
       "      <td>0</td>\n",
       "      <td>1</td>\n",
       "      <td>0.89</td>\n",
       "      <td>4633634</td>\n",
       "      <td>SNP</td>\n",
       "      <td>C→T</td>\n",
       "      <td>E38K (GAG→AAG)</td>\n",
       "      <td>yjjX</td>\n",
       "      <td>NC_000913</td>\n",
       "      <td>1656864.0</td>\n",
       "      <td>10 22 0 1</td>\n",
       "    </tr>\n",
       "    <tr>\n",
       "      <th>20</th>\n",
       "      <td>ndh-cydB-appC</td>\n",
       "      <td>10</td>\n",
       "      <td>22</td>\n",
       "      <td>0</td>\n",
       "      <td>1</td>\n",
       "      <td>1.00</td>\n",
       "      <td>222958</td>\n",
       "      <td>DEL</td>\n",
       "      <td>Δ1 bp</td>\n",
       "      <td>coding (126/576 nt)</td>\n",
       "      <td>gmhB</td>\n",
       "      <td>NC_000913</td>\n",
       "      <td>1656779.0</td>\n",
       "      <td>10 22 0 1</td>\n",
       "    </tr>\n",
       "    <tr>\n",
       "      <th>22</th>\n",
       "      <td>ndh-cydB-appC</td>\n",
       "      <td>10</td>\n",
       "      <td>32</td>\n",
       "      <td>0</td>\n",
       "      <td>1</td>\n",
       "      <td>1.00</td>\n",
       "      <td>4633634</td>\n",
       "      <td>SNP</td>\n",
       "      <td>C→T</td>\n",
       "      <td>E38K (GAG→AAG)</td>\n",
       "      <td>yjjX</td>\n",
       "      <td>NC_000913</td>\n",
       "      <td>1656864.0</td>\n",
       "      <td>10 32 0 1</td>\n",
       "    </tr>\n",
       "    <tr>\n",
       "      <th>23</th>\n",
       "      <td>ndh-cydB-appC</td>\n",
       "      <td>10</td>\n",
       "      <td>32</td>\n",
       "      <td>0</td>\n",
       "      <td>1</td>\n",
       "      <td>0.85</td>\n",
       "      <td>4183399</td>\n",
       "      <td>DEL</td>\n",
       "      <td>Δ3 bp</td>\n",
       "      <td>coding (2155‑2157/4029 nt)</td>\n",
       "      <td>rpoB</td>\n",
       "      <td>NC_000913</td>\n",
       "      <td>1656884.0</td>\n",
       "      <td>10 32 0 1</td>\n",
       "    </tr>\n",
       "  </tbody>\n",
       "</table>\n",
       "</div>"
      ],
      "text/plain": [
       "              exp  ale  flask  isolate  tech_rep  presence  Position  \\\n",
       "12  ndh-cydB-appC   10     13        0         1      1.00    222958   \n",
       "14  ndh-cydB-appC   10     22        0         1      0.89   4633634   \n",
       "20  ndh-cydB-appC   10     22        0         1      1.00    222958   \n",
       "22  ndh-cydB-appC   10     32        0         1      1.00   4633634   \n",
       "23  ndh-cydB-appC   10     32        0         1      0.85   4183399   \n",
       "\n",
       "   Mutation Type Sequence Change                     Details  Gene  \\\n",
       "12           DEL           Δ1 bp         coding (126/576 nt)  gmhB   \n",
       "14           SNP             C→T              E38K (GAG→AAG)  yjjX   \n",
       "20           DEL           Δ1 bp         coding (126/576 nt)  gmhB   \n",
       "22           SNP             C→T              E38K (GAG→AAG)  yjjX   \n",
       "23           DEL           Δ3 bp  coding (2155‑2157/4029 nt)  rpoB   \n",
       "\n",
       "   Reference Seq     Mut ID     sample  \n",
       "12     NC_000913  1656779.0  10 13 0 1  \n",
       "14     NC_000913  1656864.0  10 22 0 1  \n",
       "20     NC_000913  1656779.0  10 22 0 1  \n",
       "22     NC_000913  1656864.0  10 32 0 1  \n",
       "23     NC_000913  1656884.0  10 32 0 1  "
      ]
     },
     "execution_count": 23,
     "metadata": {},
     "output_type": "execute_result"
    }
   ],
   "source": [
    "# This work is also currently duplicated NB4 \n",
    "muts_df[\"Gene\"] = muts_df[\"Gene\"].apply(lambda a: \"rph\" if a == \"[rph], [rph]\" else a)\n",
    "muts_df[\"Gene\"] = muts_df[\"Gene\"].apply(lambda a: \"rph\" if a == \"[rph],[rph]\" else a)\n",
    "muts_df.head()"
   ]
  },
  {
   "cell_type": "code",
   "execution_count": 24,
   "metadata": {},
   "outputs": [
    {
     "data": {
      "text/html": [
       "<div>\n",
       "<style scoped>\n",
       "    .dataframe tbody tr th:only-of-type {\n",
       "        vertical-align: middle;\n",
       "    }\n",
       "\n",
       "    .dataframe tbody tr th {\n",
       "        vertical-align: top;\n",
       "    }\n",
       "\n",
       "    .dataframe thead th {\n",
       "        text-align: right;\n",
       "    }\n",
       "</style>\n",
       "<table border=\"1\" class=\"dataframe\">\n",
       "  <thead>\n",
       "    <tr style=\"text-align: right;\">\n",
       "      <th></th>\n",
       "      <th>exp</th>\n",
       "      <th>ale</th>\n",
       "      <th>flask</th>\n",
       "      <th>isolate</th>\n",
       "      <th>tech_rep</th>\n",
       "      <th>presence</th>\n",
       "      <th>Position</th>\n",
       "      <th>Mutation Type</th>\n",
       "      <th>Sequence Change</th>\n",
       "      <th>Details</th>\n",
       "      <th>Gene</th>\n",
       "      <th>Reference Seq</th>\n",
       "      <th>Mut ID</th>\n",
       "      <th>sample</th>\n",
       "      <th>coding</th>\n",
       "    </tr>\n",
       "  </thead>\n",
       "  <tbody>\n",
       "    <tr>\n",
       "      <th>12</th>\n",
       "      <td>ndh-cydB-appC</td>\n",
       "      <td>10</td>\n",
       "      <td>13</td>\n",
       "      <td>0</td>\n",
       "      <td>1</td>\n",
       "      <td>1.00</td>\n",
       "      <td>222958</td>\n",
       "      <td>DEL</td>\n",
       "      <td>Δ1 bp</td>\n",
       "      <td>coding (126/576 nt)</td>\n",
       "      <td>gmhB</td>\n",
       "      <td>NC_000913</td>\n",
       "      <td>1656779.0</td>\n",
       "      <td>10 13 0 1</td>\n",
       "      <td>True</td>\n",
       "    </tr>\n",
       "    <tr>\n",
       "      <th>14</th>\n",
       "      <td>ndh-cydB-appC</td>\n",
       "      <td>10</td>\n",
       "      <td>22</td>\n",
       "      <td>0</td>\n",
       "      <td>1</td>\n",
       "      <td>0.89</td>\n",
       "      <td>4633634</td>\n",
       "      <td>SNP</td>\n",
       "      <td>C→T</td>\n",
       "      <td>E38K (GAG→AAG)</td>\n",
       "      <td>yjjX</td>\n",
       "      <td>NC_000913</td>\n",
       "      <td>1656864.0</td>\n",
       "      <td>10 22 0 1</td>\n",
       "      <td>True</td>\n",
       "    </tr>\n",
       "    <tr>\n",
       "      <th>20</th>\n",
       "      <td>ndh-cydB-appC</td>\n",
       "      <td>10</td>\n",
       "      <td>22</td>\n",
       "      <td>0</td>\n",
       "      <td>1</td>\n",
       "      <td>1.00</td>\n",
       "      <td>222958</td>\n",
       "      <td>DEL</td>\n",
       "      <td>Δ1 bp</td>\n",
       "      <td>coding (126/576 nt)</td>\n",
       "      <td>gmhB</td>\n",
       "      <td>NC_000913</td>\n",
       "      <td>1656779.0</td>\n",
       "      <td>10 22 0 1</td>\n",
       "      <td>True</td>\n",
       "    </tr>\n",
       "    <tr>\n",
       "      <th>22</th>\n",
       "      <td>ndh-cydB-appC</td>\n",
       "      <td>10</td>\n",
       "      <td>32</td>\n",
       "      <td>0</td>\n",
       "      <td>1</td>\n",
       "      <td>1.00</td>\n",
       "      <td>4633634</td>\n",
       "      <td>SNP</td>\n",
       "      <td>C→T</td>\n",
       "      <td>E38K (GAG→AAG)</td>\n",
       "      <td>yjjX</td>\n",
       "      <td>NC_000913</td>\n",
       "      <td>1656864.0</td>\n",
       "      <td>10 32 0 1</td>\n",
       "      <td>True</td>\n",
       "    </tr>\n",
       "    <tr>\n",
       "      <th>23</th>\n",
       "      <td>ndh-cydB-appC</td>\n",
       "      <td>10</td>\n",
       "      <td>32</td>\n",
       "      <td>0</td>\n",
       "      <td>1</td>\n",
       "      <td>0.85</td>\n",
       "      <td>4183399</td>\n",
       "      <td>DEL</td>\n",
       "      <td>Δ3 bp</td>\n",
       "      <td>coding (2155‑2157/4029 nt)</td>\n",
       "      <td>rpoB</td>\n",
       "      <td>NC_000913</td>\n",
       "      <td>1656884.0</td>\n",
       "      <td>10 32 0 1</td>\n",
       "      <td>True</td>\n",
       "    </tr>\n",
       "  </tbody>\n",
       "</table>\n",
       "</div>"
      ],
      "text/plain": [
       "              exp  ale  flask  isolate  tech_rep  presence  Position  \\\n",
       "12  ndh-cydB-appC   10     13        0         1      1.00    222958   \n",
       "14  ndh-cydB-appC   10     22        0         1      0.89   4633634   \n",
       "20  ndh-cydB-appC   10     22        0         1      1.00    222958   \n",
       "22  ndh-cydB-appC   10     32        0         1      1.00   4633634   \n",
       "23  ndh-cydB-appC   10     32        0         1      0.85   4183399   \n",
       "\n",
       "   Mutation Type Sequence Change                     Details  Gene  \\\n",
       "12           DEL           Δ1 bp         coding (126/576 nt)  gmhB   \n",
       "14           SNP             C→T              E38K (GAG→AAG)  yjjX   \n",
       "20           DEL           Δ1 bp         coding (126/576 nt)  gmhB   \n",
       "22           SNP             C→T              E38K (GAG→AAG)  yjjX   \n",
       "23           DEL           Δ3 bp  coding (2155‑2157/4029 nt)  rpoB   \n",
       "\n",
       "   Reference Seq     Mut ID     sample  coding  \n",
       "12     NC_000913  1656779.0  10 13 0 1    True  \n",
       "14     NC_000913  1656864.0  10 22 0 1    True  \n",
       "20     NC_000913  1656779.0  10 22 0 1    True  \n",
       "22     NC_000913  1656864.0  10 32 0 1    True  \n",
       "23     NC_000913  1656884.0  10 32 0 1    True  "
      ]
     },
     "execution_count": 24,
     "metadata": {},
     "output_type": "execute_result"
    }
   ],
   "source": [
    "muts_df[\"coding\"] = muts_df.Details.apply(is_coding_mut)\n",
    "muts_df[\"Gene\"] = muts_df.apply(lambda row: row[\"Gene\"].replace(\", \",\"/\") if not row[\"coding\"] else row[\"Gene\"], axis=1)\n",
    "\n",
    "muts_df.head()"
   ]
  },
  {
   "cell_type": "code",
   "execution_count": 25,
   "metadata": {},
   "outputs": [],
   "source": [
    "# ensure all mutations are using NC_000913 positions.\n",
    "genome_pos_transform_exp_l = [\n",
    "    \"ERS\",\n",
    "    'EEPcyoBndh',\n",
    "    'EEPcydBappC',\n",
    "    'EEPndhcyoB',\n",
    "    'EEPndh',\n",
    "    'EEPcydBappCndh',\n",
    "    'EEPndhcydBappC'\n",
    "    \n",
    "]\n",
    "muts_df.Position = muts_df.apply(lambda row: get_K12_pos_from_BOP27(row.Position) if row.exp in genome_pos_transform_exp_l else row.Position, axis=1)"
   ]
  },
  {
   "cell_type": "markdown",
   "metadata": {},
   "source": [
    "### Just get ALE-unique mutations \n",
    "!!! Filter out many inappropriate mutations as possible to cut down the runtime on the finding ALE-unique mutations !!!"
   ]
  },
  {
   "cell_type": "code",
   "execution_count": 26,
   "metadata": {},
   "outputs": [
    {
     "name": "stdout",
     "output_type": "stream",
     "text": [
      "1086\n",
      "585\n"
     ]
    },
    {
     "data": {
      "text/html": [
       "<div>\n",
       "<style scoped>\n",
       "    .dataframe tbody tr th:only-of-type {\n",
       "        vertical-align: middle;\n",
       "    }\n",
       "\n",
       "    .dataframe tbody tr th {\n",
       "        vertical-align: top;\n",
       "    }\n",
       "\n",
       "    .dataframe thead th {\n",
       "        text-align: right;\n",
       "    }\n",
       "</style>\n",
       "<table border=\"1\" class=\"dataframe\">\n",
       "  <thead>\n",
       "    <tr style=\"text-align: right;\">\n",
       "      <th></th>\n",
       "      <th>exp</th>\n",
       "      <th>ale</th>\n",
       "      <th>flask</th>\n",
       "      <th>isolate</th>\n",
       "      <th>tech_rep</th>\n",
       "      <th>presence</th>\n",
       "      <th>Position</th>\n",
       "      <th>Mutation Type</th>\n",
       "      <th>Sequence Change</th>\n",
       "      <th>Details</th>\n",
       "      <th>Gene</th>\n",
       "      <th>Reference Seq</th>\n",
       "      <th>Mut ID</th>\n",
       "      <th>sample</th>\n",
       "      <th>coding</th>\n",
       "    </tr>\n",
       "  </thead>\n",
       "  <tbody>\n",
       "    <tr>\n",
       "      <th>1392</th>\n",
       "      <td>GLU</td>\n",
       "      <td>3</td>\n",
       "      <td>412</td>\n",
       "      <td>2</td>\n",
       "      <td>1</td>\n",
       "      <td>1.0</td>\n",
       "      <td>13957</td>\n",
       "      <td>SNP</td>\n",
       "      <td>A→T</td>\n",
       "      <td>M599L (ATG→TTG)</td>\n",
       "      <td>dnaK</td>\n",
       "      <td>NC_000913</td>\n",
       "      <td>1034671.0</td>\n",
       "      <td>3 412 2 1</td>\n",
       "      <td>True</td>\n",
       "    </tr>\n",
       "    <tr>\n",
       "      <th>1428</th>\n",
       "      <td>GLU</td>\n",
       "      <td>3</td>\n",
       "      <td>412</td>\n",
       "      <td>2</td>\n",
       "      <td>1</td>\n",
       "      <td>1.0</td>\n",
       "      <td>28175</td>\n",
       "      <td>SNP</td>\n",
       "      <td>T→A</td>\n",
       "      <td>W295R (TGG→AGG)</td>\n",
       "      <td>rihC</td>\n",
       "      <td>NC_000913</td>\n",
       "      <td>1035623.0</td>\n",
       "      <td>3 412 2 1</td>\n",
       "      <td>True</td>\n",
       "    </tr>\n",
       "    <tr>\n",
       "      <th>1393</th>\n",
       "      <td>GLU</td>\n",
       "      <td>3</td>\n",
       "      <td>412</td>\n",
       "      <td>2</td>\n",
       "      <td>1</td>\n",
       "      <td>1.0</td>\n",
       "      <td>101342</td>\n",
       "      <td>SNP</td>\n",
       "      <td>C→T</td>\n",
       "      <td>T193I (ACC→ATC)</td>\n",
       "      <td>murC</td>\n",
       "      <td>NC_000913</td>\n",
       "      <td>1034672.0</td>\n",
       "      <td>3 412 2 1</td>\n",
       "      <td>True</td>\n",
       "    </tr>\n",
       "    <tr>\n",
       "      <th>1394</th>\n",
       "      <td>GLU</td>\n",
       "      <td>3</td>\n",
       "      <td>412</td>\n",
       "      <td>2</td>\n",
       "      <td>1</td>\n",
       "      <td>1.0</td>\n",
       "      <td>145691</td>\n",
       "      <td>SNP</td>\n",
       "      <td>C→T</td>\n",
       "      <td>A204V (GCC→GTC)</td>\n",
       "      <td>yadE</td>\n",
       "      <td>NC_000913</td>\n",
       "      <td>1034673.0</td>\n",
       "      <td>3 412 2 1</td>\n",
       "      <td>True</td>\n",
       "    </tr>\n",
       "    <tr>\n",
       "      <th>1429</th>\n",
       "      <td>GLU</td>\n",
       "      <td>3</td>\n",
       "      <td>412</td>\n",
       "      <td>2</td>\n",
       "      <td>1</td>\n",
       "      <td>1.0</td>\n",
       "      <td>171072</td>\n",
       "      <td>SNP</td>\n",
       "      <td>A→G</td>\n",
       "      <td>K166K (AAA→AAG)</td>\n",
       "      <td>fhuD</td>\n",
       "      <td>NC_000913</td>\n",
       "      <td>1035624.0</td>\n",
       "      <td>3 412 2 1</td>\n",
       "      <td>True</td>\n",
       "    </tr>\n",
       "  </tbody>\n",
       "</table>\n",
       "</div>"
      ],
      "text/plain": [
       "      exp  ale  flask  isolate  tech_rep  presence  Position Mutation Type  \\\n",
       "1392  GLU    3    412        2         1       1.0     13957           SNP   \n",
       "1428  GLU    3    412        2         1       1.0     28175           SNP   \n",
       "1393  GLU    3    412        2         1       1.0    101342           SNP   \n",
       "1394  GLU    3    412        2         1       1.0    145691           SNP   \n",
       "1429  GLU    3    412        2         1       1.0    171072           SNP   \n",
       "\n",
       "     Sequence Change          Details  Gene Reference Seq     Mut ID  \\\n",
       "1392             A→T  M599L (ATG→TTG)  dnaK     NC_000913  1034671.0   \n",
       "1428             T→A  W295R (TGG→AGG)  rihC     NC_000913  1035623.0   \n",
       "1393             C→T  T193I (ACC→ATC)  murC     NC_000913  1034672.0   \n",
       "1394             C→T  A204V (GCC→GTC)  yadE     NC_000913  1034673.0   \n",
       "1429             A→G  K166K (AAA→AAG)  fhuD     NC_000913  1035624.0   \n",
       "\n",
       "         sample  coding  \n",
       "1392  3 412 2 1    True  \n",
       "1428  3 412 2 1    True  \n",
       "1393  3 412 2 1    True  \n",
       "1394  3 412 2 1    True  \n",
       "1429  3 412 2 1    True  "
      ]
     },
     "execution_count": 26,
     "metadata": {},
     "output_type": "execute_result"
    }
   ],
   "source": [
    "print(len(muts_df))\n",
    "muts_df = get_multi_exp_max_freq_mut_df(muts_df, endpoint_flask_only=False)\n",
    "print(len(muts_df))\n",
    "muts_df.head()"
   ]
  },
  {
   "cell_type": "code",
   "execution_count": 27,
   "metadata": {},
   "outputs": [],
   "source": [
    "# removing unnecessary column\n",
    "muts_df = muts_df.drop(columns=[\"Mut ID\"])"
   ]
  },
  {
   "cell_type": "code",
   "execution_count": 28,
   "metadata": {},
   "outputs": [],
   "source": [
    "muts_df.to_pickle(\"./data/1_df.pkl\")"
   ]
  },
  {
   "cell_type": "code",
   "execution_count": 29,
   "metadata": {
    "tags": []
   },
   "outputs": [
    {
     "data": {
      "text/plain": [
       "585"
      ]
     },
     "execution_count": 29,
     "metadata": {},
     "output_type": "execute_result"
    }
   ],
   "source": [
    "len(muts_df)"
   ]
  }
 ],
 "metadata": {
  "kernelspec": {
   "display_name": "Python 3",
   "language": "python",
   "name": "python3"
  },
  "language_info": {
   "codemirror_mode": {
    "name": "ipython",
    "version": 3
   },
   "file_extension": ".py",
   "mimetype": "text/x-python",
   "name": "python",
   "nbconvert_exporter": "python",
   "pygments_lexer": "ipython3",
   "version": "3.9.2"
  }
 },
 "nbformat": 4,
 "nbformat_minor": 4
}
